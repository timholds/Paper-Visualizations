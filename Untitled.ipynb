{
 "cells": [
  {
   "cell_type": "code",
   "execution_count": 2,
   "metadata": {
    "collapsed": true
   },
   "outputs": [],
   "source": [
    "# Load all the data"
   ]
  },
  {
   "cell_type": "code",
   "execution_count": 3,
   "metadata": {
    "collapsed": true
   },
   "outputs": [],
   "source": [
    "# Find the top words by which words occur the most frequently * pagerank\n",
    "\n",
    "# Stem and tokenize\n",
    "\n",
    "# Return series of the top words"
   ]
  },
  {
   "cell_type": "code",
   "execution_count": 4,
   "metadata": {
    "collapsed": true
   },
   "outputs": [],
   "source": [
    "# For each word in the series of top words, check each paper if they occur\n",
    "\n",
    "# Create a dataframe with the top words and year"
   ]
  },
  {
   "cell_type": "code",
   "execution_count": null,
   "metadata": {
    "collapsed": true
   },
   "outputs": [],
   "source": [
    "# For each word/year, track value of word_year_score as the weighted sum of pagerank for all papers\n",
    "for word in words:\n",
    "    for paper in papers:\n",
    "        if word in paper['title']:\n",
    "            # Get the year the paper occurs in\n",
    "            year = paper['year']\n",
    "            pagerank = paper['pagerank']\n",
    "            # Add the pagerank of the paper the word_year_score \n",
    "            df[word, year] = df[word, year] + pagerank"
   ]
  }
 ],
 "metadata": {
  "anaconda-cloud": {},
  "kernelspec": {
   "display_name": "Python [conda root]",
   "language": "python",
   "name": "conda-root-py"
  },
  "language_info": {
   "codemirror_mode": {
    "name": "ipython",
    "version": 3
   },
   "file_extension": ".py",
   "mimetype": "text/x-python",
   "name": "python",
   "nbconvert_exporter": "python",
   "pygments_lexer": "ipython3",
   "version": "3.5.2"
  }
 },
 "nbformat": 4,
 "nbformat_minor": 2
}
